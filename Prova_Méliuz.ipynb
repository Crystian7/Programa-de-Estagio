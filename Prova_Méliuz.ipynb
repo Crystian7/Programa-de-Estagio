{
  "nbformat": 4,
  "nbformat_minor": 0,
  "metadata": {
    "colab": {
      "name": "Prova_Méliuz",
      "provenance": []
    },
    "kernelspec": {
      "name": "python3",
      "display_name": "Python 3"
    },
    "language_info": {
      "name": "python"
    }
  },
  "cells": [
    {
      "cell_type": "markdown",
      "metadata": {
        "id": "Pyj2AdiZCP1z"
      },
      "source": [
        "# Antes de começar\n",
        "\n",
        "1.   Organize as respostas do jeito que achar melhor, mas lembre-se que uma boa organização facilita a compreensão do código.\n",
        "\n",
        "2.   Ao fim do teste, compartilhe a sua cópia do Notebook com a gente para realizarmos a correção.\n",
        "\n",
        "3.   Boa sorte e divirta-se!"
      ]
    },
    {
      "cell_type": "markdown",
      "metadata": {
        "id": "E1R7EqbdCZmj"
      },
      "source": [
        "#Execute essa célula para configurar o ambiente."
      ]
    },
    {
      "cell_type": "code",
      "metadata": {
        "id": "pIh_YIQLCnoI",
        "colab": {
          "base_uri": "https://localhost:8080/"
        },
        "outputId": "f2fa2dce-3615-4f29-8a20-57d5a74e7f2a"
      },
      "source": [
        "# criar pasta\n",
        "!mkdir prova_meliuz\n",
        "\n",
        "# download do csv dentro da pasta \n",
        "!curl \"https://raw.githubusercontent.com/Crystian7/Programa-de-Estagio/main/Teste%20M%C3%A9liuz%20.csv\" > prova_meliuz/Teste_Méliuz.csv\n",
        "\n",
        "# importando o pandas\n",
        "import pandas as pd\n",
        "\n",
        "# carregando o arquivo csv e usando o parametro sep\n",
        "df = pd.read_csv(\"/content/prova_meliuz/Teste_Méliuz.csv\", sep=',')"
      ],
      "execution_count": 8,
      "outputs": [
        {
          "output_type": "stream",
          "name": "stdout",
          "text": [
            "mkdir: cannot create directory ‘prova_meliuz’: File exists\n",
            "  % Total    % Received % Xferd  Average Speed   Time    Time     Time  Current\n",
            "                                 Dload  Upload   Total   Spent    Left  Speed\n",
            "100 3416k  100 3416k    0     0  58.5M      0 --:--:-- --:--:-- --:--:-- 58.5M\n"
          ]
        }
      ]
    }
  ]
}