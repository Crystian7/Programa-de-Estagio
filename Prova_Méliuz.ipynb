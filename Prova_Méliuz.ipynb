{
  "nbformat": 4,
  "nbformat_minor": 0,
  "metadata": {
    "colab": {
      "name": "Prova_Méliuz",
      "provenance": []
    },
    "kernelspec": {
      "name": "python3",
      "display_name": "Python 3"
    },
    "language_info": {
      "name": "python"
    }
  },
  "cells": [
    {
      "cell_type": "markdown",
      "metadata": {
        "id": "Pyj2AdiZCP1z"
      },
      "source": [
        "# Antes de começar\n",
        "\n",
        "1.   Organize as respostas do jeito que achar melhor, mas lembre-se que uma boa organização facilita a compreensão do código.\n",
        "\n",
        "2.   Ao fim do teste, compartilhe a sua cópia do Notebook com a gente para realizarmos a correção.\n",
        "\n",
        "3.   Boa sorte e divirta-se!"
      ]
    },
    {
      "cell_type": "markdown",
      "metadata": {
        "id": "E1R7EqbdCZmj"
      },
      "source": [
        "#Execute essa célula para configurar o ambiente."
      ]
    },
    {
      "cell_type": "code",
      "metadata": {
        "id": "pIh_YIQLCnoI",
        "colab": {
          "base_uri": "https://localhost:8080/"
        },
        "outputId": "7ae17ff1-8ad4-4b06-903b-7534f9e46546"
      },
      "source": [
        "# criar pasta\n",
        "!mkdir prova_meliuz\n",
        "\n",
        "# download do csv dentro da pasta \n",
        "!curl \"https://github.com/Crystian7/Programa-de-Estagio/blob/244b2a21875babe7418381909e9e128ad2e58ea0/Teste%20M%C3%A9liuz%20.csv\" > prova_meliuz/Teste_Méliuz.csv\n",
        "\n",
        "import pandas as pd"
      ],
      "execution_count": 2,
      "outputs": [
        {
          "output_type": "stream",
          "name": "stdout",
          "text": [
            "mkdir: cannot create directory ‘prova_meliuz’: File exists\n",
            "  % Total    % Received % Xferd  Average Speed   Time    Time     Time  Current\n",
            "                                 Dload  Upload   Total   Spent    Left  Speed\n",
            "100  158k    0  158k    0     0   719k      0 --:--:-- --:--:-- --:--:--  716k\n"
          ]
        }
      ]
    },
    {
      "cell_type": "markdown",
      "metadata": {
        "id": "MZqXJ2DoCn-C"
      },
      "source": [
        "# Colocando a mão na massa\n",
        "\n",
        "Com o seu ambiente configurado, é hora de responder as perguntas.\n",
        "\n",
        "\n",
        "**Responda as questões abaixo:** \n",
        "\n",
        "1. Qual é a quantidade total de lojas na base de dados?\n",
        "2. Qual foi o total de GMV em cada região do país? Ordene do maior para o menor.\n",
        "3. Qual foi a comissão total de cada loja considerando as taxas de: \n",
        "    * 1 a 10 vendas = 5% \n",
        "    * 11 a 15 vendas = 10%\n",
        "    * 16 a 20 vendas = 15%\n",
        "    * 21 a 25 vendas = 20%\n",
        "    * Mais que 25 vendas = 25%\n",
        "\n",
        "4. Qual foi o GMV total entre os dias 09 de outubro a 23 de novembro ?\n",
        "5. Qual foi a comissão total do primeiro trimestre? Considere as taxas de comissão da questão 3.\n",
        "6. De todos os estados brasileiros, qual deles merece um acompanhamento melhor? porque ?\n",
        "7. Em qual loja você faria uma campanha para o aumento das vendas? Porque?\n",
        "8. Quantas lojas tiveram vendas do tipo Promocional? E quantas de Não Promocional e Superpromoção?\n",
        "9. Qual foi o GMV total e a comissão total da região nordeste? Considere as taxas de comissão da questão 3.\n",
        "10. Qual a média de vendas por loja, por estado, e pelo tipo de vendas.\n",
        "11. Qual foi a forma de pagamento mais utilizada? E o GMV total gerado por ela?\n",
        "12. Quais outras informações podemos extrair através da base de dados da planilha?\n",
        "* comissão = taxa de comissão  x GMV\n",
        "\n"
      ]
    },
    {
      "cell_type": "code",
      "metadata": {
        "id": "-800bOXIComx"
      },
      "source": [
        ""
      ],
      "execution_count": null,
      "outputs": []
    }
  ]
}