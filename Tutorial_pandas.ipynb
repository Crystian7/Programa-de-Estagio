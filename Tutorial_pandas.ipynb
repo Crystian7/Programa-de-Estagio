{
  "nbformat": 4,
  "nbformat_minor": 0,
  "metadata": {
    "colab": {
      "name": "Tutorial_pandas",
      "provenance": []
    },
    "kernelspec": {
      "name": "python3",
      "display_name": "Python 3"
    },
    "language_info": {
      "name": "python"
    }
  },
  "cells": [
    {
      "cell_type": "markdown",
      "metadata": {
        "id": "AbaU5JprFYUV"
      },
      "source": [
        "# 0.0 Preparando o arquivo"
      ]
    },
    {
      "cell_type": "markdown",
      "metadata": {
        "id": "iIbIbCx_FfuW"
      },
      "source": [
        "Faça uma cópia desse tutorial, vá em `Arquivo` > `Salvar uma cópia no Drive`, para rodar o código é só apertar o botão \"Play\" nas células ou Shift + Enter, para rodar todos os códigos de uma vez aperte `Ctrl + F9` no teclado, ou vá em `Ambiente de execução`  e aperte `Executar tudo`. Você também pode colocar comentários no código utilizando #, ou criar uma célula de texto e adicionar o que quiser nela. "
      ]
    },
    {
      "cell_type": "markdown",
      "metadata": {
        "id": "IzO_dCDB-Llx"
      },
      "source": [
        "# 1.0. Configurando o ambiente de trabalho\n",
        "\n",
        "**O que é uma biblioteca Python?** Uma biblioteca é um conjuto de módulos, os módulos são arquivos .py com instruções e definições,que facilitam a criação de scripts, pois podemos utilizar scripts de outras pessoas para cômpor o próprio projeto.\n",
        "* [Pandas](https://pandas.pydata.org/docs/): é uma biblioteca para a linguagem de programação Python para manipulação e análise de dados;\n",
        "\n",
        "* [Numpy](https://numpy.org/doc/stable/): é uma biblioteca para a linguagem Python com funções para se trabalhar com computação numérica. Seu principal objeto é o vetor n-dimensional, ou ndarray;\n",
        "\n",
        "* [Seaborn](https://seaborn.pydata.org/tutorial.html): é uma biblioteca em Python que fornece diversos gŕaficos estátisticos;\n",
        "\n",
        "* [Matplotlib](https://matplotlib.org/stable/contents.html): entensão da biblioteca Numpy e tem como objetivo protagem de gráficos.\n",
        "\n",
        "\n",
        "Para acessar mais bibliotecas: https://pypi.org/."
      ]
    },
    {
      "cell_type": "markdown",
      "metadata": {
        "id": "8qKl_8P7FS85"
      },
      "source": [
        "## 1.1. Instalando bibliotecas\n",
        "\n",
        "Utilize o comando `pip install` e o nome da biblioteca para efetuar a instalação.\n"
      ]
    },
    {
      "cell_type": "code",
      "metadata": {
        "colab": {
          "base_uri": "https://localhost:8080/"
        },
        "id": "R1D_hTicRzLI",
        "outputId": "8f70650f-c327-4768-a69e-e16cdbe49361"
      },
      "source": [
        "!pip install seaborn\n",
        "!pip install numpy"
      ],
      "execution_count": null,
      "outputs": [
        {
          "output_type": "stream",
          "name": "stdout",
          "text": [
            "Requirement already satisfied: seaborn in /usr/local/lib/python3.7/dist-packages (0.11.2)\n",
            "Requirement already satisfied: matplotlib>=2.2 in /usr/local/lib/python3.7/dist-packages (from seaborn) (3.2.2)\n",
            "Requirement already satisfied: numpy>=1.15 in /usr/local/lib/python3.7/dist-packages (from seaborn) (1.19.5)\n",
            "Requirement already satisfied: scipy>=1.0 in /usr/local/lib/python3.7/dist-packages (from seaborn) (1.4.1)\n",
            "Requirement already satisfied: pandas>=0.23 in /usr/local/lib/python3.7/dist-packages (from seaborn) (1.1.5)\n",
            "Requirement already satisfied: cycler>=0.10 in /usr/local/lib/python3.7/dist-packages (from matplotlib>=2.2->seaborn) (0.11.0)\n",
            "Requirement already satisfied: kiwisolver>=1.0.1 in /usr/local/lib/python3.7/dist-packages (from matplotlib>=2.2->seaborn) (1.3.2)\n",
            "Requirement already satisfied: pyparsing!=2.0.4,!=2.1.2,!=2.1.6,>=2.0.1 in /usr/local/lib/python3.7/dist-packages (from matplotlib>=2.2->seaborn) (2.4.7)\n",
            "Requirement already satisfied: python-dateutil>=2.1 in /usr/local/lib/python3.7/dist-packages (from matplotlib>=2.2->seaborn) (2.8.2)\n",
            "Requirement already satisfied: pytz>=2017.2 in /usr/local/lib/python3.7/dist-packages (from pandas>=0.23->seaborn) (2018.9)\n",
            "Requirement already satisfied: six>=1.5 in /usr/local/lib/python3.7/dist-packages (from python-dateutil>=2.1->matplotlib>=2.2->seaborn) (1.15.0)\n",
            "Requirement already satisfied: numpy in /usr/local/lib/python3.7/dist-packages (1.19.5)\n"
          ]
        }
      ]
    },
    {
      "cell_type": "markdown",
      "metadata": {
        "id": "CeJt0NngJv8a"
      },
      "source": [
        "##1.2. Importando as bibliotecas"
      ]
    },
    {
      "cell_type": "markdown",
      "metadata": {
        "id": "xH2QF1DxKpvj"
      },
      "source": [
        "Para importar uma biblioteca utilizamos o comando `import` e o nome da biblioteca, podemos dar um alias (apelido), se assim desejarmos.\n"
      ]
    },
    {
      "cell_type": "code",
      "metadata": {
        "id": "632TthizNEEP"
      },
      "source": [
        "# importando bibliotecas\n",
        "\n",
        "import pandas as pd\n",
        "import seaborn as sns\n",
        "import numpy as np\n",
        "import matplotlib.pyplot as plt"
      ],
      "execution_count": null,
      "outputs": []
    },
    {
      "cell_type": "markdown",
      "metadata": {
        "id": "KC27VI2lLoj7"
      },
      "source": [
        "\n",
        "Para importar só um módulo da biblioteca colocamos o comando `from`.\n",
        "\n",
        "```\n",
        "# from matplotlib import pyplot as plt\n",
        "\n",
        "```\n"
      ]
    },
    {
      "cell_type": "markdown",
      "metadata": {
        "id": "TPy9a5d3rZWK"
      },
      "source": [
        "#2.0. Carregando os dados\n",
        "Carregue dados em csv, excel, json ou até clipboard (Ctrl + c), clicando nos três pontos que estão na frente do nome do arquivo, podemos copiar o caminho,  utilize o comando `pandas.read_formato(\"caminho/arquivo.formato\")`. Para carregar algum arquivo do computador, vá em Arquivos e Upload, para carrgar algum dado do Drive vá em Montar Drive e escolha a pasta que se encontra o arquivo desejado."
      ]
    },
    {
      "cell_type": "markdown",
      "metadata": {
        "id": "BJNqA224vfP2"
      },
      "source": [
        "##2.1. Baixando dados do Kaggle"
      ]
    },
    {
      "cell_type": "markdown",
      "metadata": {
        "id": "nzkdlcP7vrTj"
      },
      "source": [
        "Utilizaremos um arquivo de dados do site [Kaggle](https://www.kaggle.com/harlfoxem/housesalesprediction), para fazer o download diretamente do \n",
        "site para o Colab precisamos criar uma autenticação e depois instalar a API, para facilitar usaremos de um arquivo no GitHub.\n"
      ]
    },
    {
      "cell_type": "code",
      "metadata": {
        "colab": {
          "base_uri": "https://localhost:8080/"
        },
        "id": "ALAz7L__4XLq",
        "outputId": "ec4d70a2-7975-42ec-d655-24e9b92a3ebd"
      },
      "source": [
        "# criar pasta\n",
        "!mkdir tutorial_pandas\n",
        "\n",
        "# download do csv dentro da pasta \n",
        "!curl \"https://raw.githubusercontent.com/Crystian0704/tutorial_pandas/main/kc_house_data.csv\" > tutorial_pandas/kc_house_data.csv"
      ],
      "execution_count": null,
      "outputs": [
        {
          "output_type": "stream",
          "name": "stdout",
          "text": [
            "mkdir: cannot create directory ‘tutorial_pandas’: File exists\n",
            "  % Total    % Received % Xferd  Average Speed   Time    Time     Time  Current\n",
            "                                 Dload  Upload   Total   Spent    Left  Speed\n",
            "100 2456k  100 2456k    0     0  8679k      0 --:--:-- --:--:-- --:--:-- 8679k\n"
          ]
        }
      ]
    },
    {
      "cell_type": "code",
      "metadata": {
        "id": "_1UpOAZAq4Ca"
      },
      "source": [
        ""
      ],
      "execution_count": null,
      "outputs": []
    },
    {
      "cell_type": "markdown",
      "metadata": {
        "id": "jv4Fp729DpYw"
      },
      "source": [
        "##2.2. Carregando o arquivo csv no Colab\n",
        "\n",
        "O arquivo csv é dividido por um separador que pode ser uma vírgula, barra ou qualquer outro caractere, passaremos esse parâmetro para o código."
      ]
    },
    {
      "cell_type": "code",
      "metadata": {
        "id": "spB4SExG5FdK"
      },
      "source": [
        "# carregando o arquivo csv e usando o parametro sep\n",
        "data_raw = pd.read_csv(\"/content/tutorial_pandas/kc_house_data.csv\", sep=',')"
      ],
      "execution_count": null,
      "outputs": []
    },
    {
      "cell_type": "markdown",
      "metadata": {
        "id": "DQmQ2VTzPrAG"
      },
      "source": [
        "#3.0. Descrição dos dados\n",
        "\n",
        "###Identificação dos dados de cada coluna:\n",
        "\n",
        "- **id** ➡ identificação única de cada casa \n",
        "- **date** ➡ data da venda \n",
        "- **price** ➡ preço da venda \n",
        "- **bedrooms** ➡ quantidade de quartos\n",
        "- **bathrooms** ➡ quantidade de banheiros\n",
        "- **sqft_living** ➡ metro quadrado da casa\n",
        "- **sqft_lot** ➡ metro quadrado do lote\n",
        "- **floors** ➡ quantos andares tem a casa\n",
        "- **waterflont** ➡ se tem vista para o mar, 1 para (sim) e 0 para (não)\n",
        "- **view** ➡ se ela foi vista, 1 para (sim) e 0 para (não)\n",
        "- **condition** ➡ a condição estrutural que vai de 1 (pior) a 5 (melhor)\n",
        "- **grade** ➡ nota geral em um sistema de classificação\n",
        "- **sqft_above** ➡ metragem quadrada da casa além do porão\n",
        "- **sqft_basement** ➡ metragem quadrada do porão\n",
        "- **yr_built** ➡ ano construção\n",
        "- **yr_renovated** ➡ ano da reforma\n",
        "- **zipcode**\t➡ código postal\n",
        "- **lat** ➡ latitude\n",
        "- **long** ➡ longitude\n",
        "- **sqft_living15** ➡ área da sala de estar em 2015\n",
        "- **sqft_living15** ➡ área do lote em 2015\n"
      ]
    },
    {
      "cell_type": "code",
      "metadata": {
        "id": "Y35BApcgQ6KH"
      },
      "source": [
        "# cópia do dataframe\n",
        "df1 = data_raw.copy()"
      ],
      "execution_count": null,
      "outputs": []
    },
    {
      "cell_type": "markdown",
      "metadata": {
        "id": "DGJFZtEjRV5x"
      },
      "source": [
        "##3.1. Dimensão dos dados"
      ]
    },
    {
      "cell_type": "code",
      "metadata": {
        "colab": {
          "base_uri": "https://localhost:8080/"
        },
        "id": "p6zt1mWcR1OV",
        "outputId": "be657898-a57a-4810-842a-032cd64bb89b"
      },
      "source": [
        "# mostrar a quantidade de linhas e de colunas\n",
        "print( 'Número de linhas: {}'.format( df1.shape[0] ) )\n",
        "print( 'Número de colunas: {}'.format( df1.shape[1] ) )\n"
      ],
      "execution_count": null,
      "outputs": [
        {
          "output_type": "stream",
          "name": "stdout",
          "text": [
            "Número de linhas: 21613\n",
            "Número de colunas: 21\n"
          ]
        }
      ]
    },
    {
      "cell_type": "code",
      "metadata": {
        "colab": {
          "base_uri": "https://localhost:8080/"
        },
        "id": "LTskn1PANcwp",
        "outputId": "94870133-7584-4fa4-d2fa-b850611575a3"
      },
      "source": [
        "#mostrar as 5 primeiras linhas \n",
        "df1.head()"
      ],
      "execution_count": null,
      "outputs": [
        {
          "output_type": "execute_result",
          "data": {
            "text/html": [
              "<div>\n",
              "<style scoped>\n",
              "    .dataframe tbody tr th:only-of-type {\n",
              "        vertical-align: middle;\n",
              "    }\n",
              "\n",
              "    .dataframe tbody tr th {\n",
              "        vertical-align: top;\n",
              "    }\n",
              "\n",
              "    .dataframe thead th {\n",
              "        text-align: right;\n",
              "    }\n",
              "</style>\n",
              "<table border=\"1\" class=\"dataframe\">\n",
              "  <thead>\n",
              "    <tr style=\"text-align: right;\">\n",
              "      <th></th>\n",
              "      <th>id</th>\n",
              "      <th>date</th>\n",
              "      <th>price</th>\n",
              "      <th>bedrooms</th>\n",
              "      <th>bathrooms</th>\n",
              "      <th>sqft_living</th>\n",
              "      <th>sqft_lot</th>\n",
              "      <th>floors</th>\n",
              "      <th>waterfront</th>\n",
              "      <th>view</th>\n",
              "      <th>condition</th>\n",
              "      <th>grade</th>\n",
              "      <th>sqft_above</th>\n",
              "      <th>sqft_basement</th>\n",
              "      <th>yr_built</th>\n",
              "      <th>yr_renovated</th>\n",
              "      <th>zipcode</th>\n",
              "      <th>lat</th>\n",
              "      <th>long</th>\n",
              "      <th>sqft_living15</th>\n",
              "      <th>sqft_lot15</th>\n",
              "    </tr>\n",
              "  </thead>\n",
              "  <tbody>\n",
              "    <tr>\n",
              "      <th>0</th>\n",
              "      <td>7129300520</td>\n",
              "      <td>20141013T000000</td>\n",
              "      <td>221900.0</td>\n",
              "      <td>3</td>\n",
              "      <td>1.00</td>\n",
              "      <td>1180</td>\n",
              "      <td>5650</td>\n",
              "      <td>1.0</td>\n",
              "      <td>0</td>\n",
              "      <td>0</td>\n",
              "      <td>3</td>\n",
              "      <td>7</td>\n",
              "      <td>1180</td>\n",
              "      <td>0</td>\n",
              "      <td>1955</td>\n",
              "      <td>0</td>\n",
              "      <td>98178</td>\n",
              "      <td>47.5112</td>\n",
              "      <td>-122.257</td>\n",
              "      <td>1340</td>\n",
              "      <td>5650</td>\n",
              "    </tr>\n",
              "    <tr>\n",
              "      <th>1</th>\n",
              "      <td>6414100192</td>\n",
              "      <td>20141209T000000</td>\n",
              "      <td>538000.0</td>\n",
              "      <td>3</td>\n",
              "      <td>2.25</td>\n",
              "      <td>2570</td>\n",
              "      <td>7242</td>\n",
              "      <td>2.0</td>\n",
              "      <td>0</td>\n",
              "      <td>0</td>\n",
              "      <td>3</td>\n",
              "      <td>7</td>\n",
              "      <td>2170</td>\n",
              "      <td>400</td>\n",
              "      <td>1951</td>\n",
              "      <td>1991</td>\n",
              "      <td>98125</td>\n",
              "      <td>47.7210</td>\n",
              "      <td>-122.319</td>\n",
              "      <td>1690</td>\n",
              "      <td>7639</td>\n",
              "    </tr>\n",
              "    <tr>\n",
              "      <th>2</th>\n",
              "      <td>5631500400</td>\n",
              "      <td>20150225T000000</td>\n",
              "      <td>180000.0</td>\n",
              "      <td>2</td>\n",
              "      <td>1.00</td>\n",
              "      <td>770</td>\n",
              "      <td>10000</td>\n",
              "      <td>1.0</td>\n",
              "      <td>0</td>\n",
              "      <td>0</td>\n",
              "      <td>3</td>\n",
              "      <td>6</td>\n",
              "      <td>770</td>\n",
              "      <td>0</td>\n",
              "      <td>1933</td>\n",
              "      <td>0</td>\n",
              "      <td>98028</td>\n",
              "      <td>47.7379</td>\n",
              "      <td>-122.233</td>\n",
              "      <td>2720</td>\n",
              "      <td>8062</td>\n",
              "    </tr>\n",
              "    <tr>\n",
              "      <th>3</th>\n",
              "      <td>2487200875</td>\n",
              "      <td>20141209T000000</td>\n",
              "      <td>604000.0</td>\n",
              "      <td>4</td>\n",
              "      <td>3.00</td>\n",
              "      <td>1960</td>\n",
              "      <td>5000</td>\n",
              "      <td>1.0</td>\n",
              "      <td>0</td>\n",
              "      <td>0</td>\n",
              "      <td>5</td>\n",
              "      <td>7</td>\n",
              "      <td>1050</td>\n",
              "      <td>910</td>\n",
              "      <td>1965</td>\n",
              "      <td>0</td>\n",
              "      <td>98136</td>\n",
              "      <td>47.5208</td>\n",
              "      <td>-122.393</td>\n",
              "      <td>1360</td>\n",
              "      <td>5000</td>\n",
              "    </tr>\n",
              "    <tr>\n",
              "      <th>4</th>\n",
              "      <td>1954400510</td>\n",
              "      <td>20150218T000000</td>\n",
              "      <td>510000.0</td>\n",
              "      <td>3</td>\n",
              "      <td>2.00</td>\n",
              "      <td>1680</td>\n",
              "      <td>8080</td>\n",
              "      <td>1.0</td>\n",
              "      <td>0</td>\n",
              "      <td>0</td>\n",
              "      <td>3</td>\n",
              "      <td>8</td>\n",
              "      <td>1680</td>\n",
              "      <td>0</td>\n",
              "      <td>1987</td>\n",
              "      <td>0</td>\n",
              "      <td>98074</td>\n",
              "      <td>47.6168</td>\n",
              "      <td>-122.045</td>\n",
              "      <td>1800</td>\n",
              "      <td>7503</td>\n",
              "    </tr>\n",
              "  </tbody>\n",
              "</table>\n",
              "</div>"
            ],
            "text/plain": [
              "           id             date     price  ...     long  sqft_living15  sqft_lot15\n",
              "0  7129300520  20141013T000000  221900.0  ... -122.257           1340        5650\n",
              "1  6414100192  20141209T000000  538000.0  ... -122.319           1690        7639\n",
              "2  5631500400  20150225T000000  180000.0  ... -122.233           2720        8062\n",
              "3  2487200875  20141209T000000  604000.0  ... -122.393           1360        5000\n",
              "4  1954400510  20150218T000000  510000.0  ... -122.045           1800        7503\n",
              "\n",
              "[5 rows x 21 columns]"
            ]
          },
          "metadata": {},
          "execution_count": 119
        }
      ]
    },
    {
      "cell_type": "code",
      "metadata": {
        "colab": {
          "base_uri": "https://localhost:8080/"
        },
        "id": "o5iK_gzWNfTd",
        "outputId": "a3e267a4-ba90-4206-e461-ef3d5958748d"
      },
      "source": [
        "#mostrar as 10 últimas linhas \n",
        "df1.tail(10)\n"
      ],
      "execution_count": null,
      "outputs": [
        {
          "output_type": "execute_result",
          "data": {
            "text/html": [
              "<div>\n",
              "<style scoped>\n",
              "    .dataframe tbody tr th:only-of-type {\n",
              "        vertical-align: middle;\n",
              "    }\n",
              "\n",
              "    .dataframe tbody tr th {\n",
              "        vertical-align: top;\n",
              "    }\n",
              "\n",
              "    .dataframe thead th {\n",
              "        text-align: right;\n",
              "    }\n",
              "</style>\n",
              "<table border=\"1\" class=\"dataframe\">\n",
              "  <thead>\n",
              "    <tr style=\"text-align: right;\">\n",
              "      <th></th>\n",
              "      <th>id</th>\n",
              "      <th>date</th>\n",
              "      <th>price</th>\n",
              "      <th>bedrooms</th>\n",
              "      <th>bathrooms</th>\n",
              "      <th>sqft_living</th>\n",
              "      <th>sqft_lot</th>\n",
              "      <th>floors</th>\n",
              "      <th>waterfront</th>\n",
              "      <th>view</th>\n",
              "      <th>condition</th>\n",
              "      <th>grade</th>\n",
              "      <th>sqft_above</th>\n",
              "      <th>sqft_basement</th>\n",
              "      <th>yr_built</th>\n",
              "      <th>yr_renovated</th>\n",
              "      <th>zipcode</th>\n",
              "      <th>lat</th>\n",
              "      <th>long</th>\n",
              "      <th>sqft_living15</th>\n",
              "      <th>sqft_lot15</th>\n",
              "    </tr>\n",
              "  </thead>\n",
              "  <tbody>\n",
              "    <tr>\n",
              "      <th>21603</th>\n",
              "      <td>7852140040</td>\n",
              "      <td>20140825T000000</td>\n",
              "      <td>507250.0</td>\n",
              "      <td>3</td>\n",
              "      <td>2.50</td>\n",
              "      <td>2270</td>\n",
              "      <td>5536</td>\n",
              "      <td>2.0</td>\n",
              "      <td>0</td>\n",
              "      <td>0</td>\n",
              "      <td>3</td>\n",
              "      <td>8</td>\n",
              "      <td>2270</td>\n",
              "      <td>0</td>\n",
              "      <td>2003</td>\n",
              "      <td>0</td>\n",
              "      <td>98065</td>\n",
              "      <td>47.5389</td>\n",
              "      <td>-121.881</td>\n",
              "      <td>2270</td>\n",
              "      <td>5731</td>\n",
              "    </tr>\n",
              "    <tr>\n",
              "      <th>21604</th>\n",
              "      <td>9834201367</td>\n",
              "      <td>20150126T000000</td>\n",
              "      <td>429000.0</td>\n",
              "      <td>3</td>\n",
              "      <td>2.00</td>\n",
              "      <td>1490</td>\n",
              "      <td>1126</td>\n",
              "      <td>3.0</td>\n",
              "      <td>0</td>\n",
              "      <td>0</td>\n",
              "      <td>3</td>\n",
              "      <td>8</td>\n",
              "      <td>1490</td>\n",
              "      <td>0</td>\n",
              "      <td>2014</td>\n",
              "      <td>0</td>\n",
              "      <td>98144</td>\n",
              "      <td>47.5699</td>\n",
              "      <td>-122.288</td>\n",
              "      <td>1400</td>\n",
              "      <td>1230</td>\n",
              "    </tr>\n",
              "    <tr>\n",
              "      <th>21605</th>\n",
              "      <td>3448900210</td>\n",
              "      <td>20141014T000000</td>\n",
              "      <td>610685.0</td>\n",
              "      <td>4</td>\n",
              "      <td>2.50</td>\n",
              "      <td>2520</td>\n",
              "      <td>6023</td>\n",
              "      <td>2.0</td>\n",
              "      <td>0</td>\n",
              "      <td>0</td>\n",
              "      <td>3</td>\n",
              "      <td>9</td>\n",
              "      <td>2520</td>\n",
              "      <td>0</td>\n",
              "      <td>2014</td>\n",
              "      <td>0</td>\n",
              "      <td>98056</td>\n",
              "      <td>47.5137</td>\n",
              "      <td>-122.167</td>\n",
              "      <td>2520</td>\n",
              "      <td>6023</td>\n",
              "    </tr>\n",
              "    <tr>\n",
              "      <th>21606</th>\n",
              "      <td>7936000429</td>\n",
              "      <td>20150326T000000</td>\n",
              "      <td>1007500.0</td>\n",
              "      <td>4</td>\n",
              "      <td>3.50</td>\n",
              "      <td>3510</td>\n",
              "      <td>7200</td>\n",
              "      <td>2.0</td>\n",
              "      <td>0</td>\n",
              "      <td>0</td>\n",
              "      <td>3</td>\n",
              "      <td>9</td>\n",
              "      <td>2600</td>\n",
              "      <td>910</td>\n",
              "      <td>2009</td>\n",
              "      <td>0</td>\n",
              "      <td>98136</td>\n",
              "      <td>47.5537</td>\n",
              "      <td>-122.398</td>\n",
              "      <td>2050</td>\n",
              "      <td>6200</td>\n",
              "    </tr>\n",
              "    <tr>\n",
              "      <th>21607</th>\n",
              "      <td>2997800021</td>\n",
              "      <td>20150219T000000</td>\n",
              "      <td>475000.0</td>\n",
              "      <td>3</td>\n",
              "      <td>2.50</td>\n",
              "      <td>1310</td>\n",
              "      <td>1294</td>\n",
              "      <td>2.0</td>\n",
              "      <td>0</td>\n",
              "      <td>0</td>\n",
              "      <td>3</td>\n",
              "      <td>8</td>\n",
              "      <td>1180</td>\n",
              "      <td>130</td>\n",
              "      <td>2008</td>\n",
              "      <td>0</td>\n",
              "      <td>98116</td>\n",
              "      <td>47.5773</td>\n",
              "      <td>-122.409</td>\n",
              "      <td>1330</td>\n",
              "      <td>1265</td>\n",
              "    </tr>\n",
              "    <tr>\n",
              "      <th>21608</th>\n",
              "      <td>263000018</td>\n",
              "      <td>20140521T000000</td>\n",
              "      <td>360000.0</td>\n",
              "      <td>3</td>\n",
              "      <td>2.50</td>\n",
              "      <td>1530</td>\n",
              "      <td>1131</td>\n",
              "      <td>3.0</td>\n",
              "      <td>0</td>\n",
              "      <td>0</td>\n",
              "      <td>3</td>\n",
              "      <td>8</td>\n",
              "      <td>1530</td>\n",
              "      <td>0</td>\n",
              "      <td>2009</td>\n",
              "      <td>0</td>\n",
              "      <td>98103</td>\n",
              "      <td>47.6993</td>\n",
              "      <td>-122.346</td>\n",
              "      <td>1530</td>\n",
              "      <td>1509</td>\n",
              "    </tr>\n",
              "    <tr>\n",
              "      <th>21609</th>\n",
              "      <td>6600060120</td>\n",
              "      <td>20150223T000000</td>\n",
              "      <td>400000.0</td>\n",
              "      <td>4</td>\n",
              "      <td>2.50</td>\n",
              "      <td>2310</td>\n",
              "      <td>5813</td>\n",
              "      <td>2.0</td>\n",
              "      <td>0</td>\n",
              "      <td>0</td>\n",
              "      <td>3</td>\n",
              "      <td>8</td>\n",
              "      <td>2310</td>\n",
              "      <td>0</td>\n",
              "      <td>2014</td>\n",
              "      <td>0</td>\n",
              "      <td>98146</td>\n",
              "      <td>47.5107</td>\n",
              "      <td>-122.362</td>\n",
              "      <td>1830</td>\n",
              "      <td>7200</td>\n",
              "    </tr>\n",
              "    <tr>\n",
              "      <th>21610</th>\n",
              "      <td>1523300141</td>\n",
              "      <td>20140623T000000</td>\n",
              "      <td>402101.0</td>\n",
              "      <td>2</td>\n",
              "      <td>0.75</td>\n",
              "      <td>1020</td>\n",
              "      <td>1350</td>\n",
              "      <td>2.0</td>\n",
              "      <td>0</td>\n",
              "      <td>0</td>\n",
              "      <td>3</td>\n",
              "      <td>7</td>\n",
              "      <td>1020</td>\n",
              "      <td>0</td>\n",
              "      <td>2009</td>\n",
              "      <td>0</td>\n",
              "      <td>98144</td>\n",
              "      <td>47.5944</td>\n",
              "      <td>-122.299</td>\n",
              "      <td>1020</td>\n",
              "      <td>2007</td>\n",
              "    </tr>\n",
              "    <tr>\n",
              "      <th>21611</th>\n",
              "      <td>291310100</td>\n",
              "      <td>20150116T000000</td>\n",
              "      <td>400000.0</td>\n",
              "      <td>3</td>\n",
              "      <td>2.50</td>\n",
              "      <td>1600</td>\n",
              "      <td>2388</td>\n",
              "      <td>2.0</td>\n",
              "      <td>0</td>\n",
              "      <td>0</td>\n",
              "      <td>3</td>\n",
              "      <td>8</td>\n",
              "      <td>1600</td>\n",
              "      <td>0</td>\n",
              "      <td>2004</td>\n",
              "      <td>0</td>\n",
              "      <td>98027</td>\n",
              "      <td>47.5345</td>\n",
              "      <td>-122.069</td>\n",
              "      <td>1410</td>\n",
              "      <td>1287</td>\n",
              "    </tr>\n",
              "    <tr>\n",
              "      <th>21612</th>\n",
              "      <td>1523300157</td>\n",
              "      <td>20141015T000000</td>\n",
              "      <td>325000.0</td>\n",
              "      <td>2</td>\n",
              "      <td>0.75</td>\n",
              "      <td>1020</td>\n",
              "      <td>1076</td>\n",
              "      <td>2.0</td>\n",
              "      <td>0</td>\n",
              "      <td>0</td>\n",
              "      <td>3</td>\n",
              "      <td>7</td>\n",
              "      <td>1020</td>\n",
              "      <td>0</td>\n",
              "      <td>2008</td>\n",
              "      <td>0</td>\n",
              "      <td>98144</td>\n",
              "      <td>47.5941</td>\n",
              "      <td>-122.299</td>\n",
              "      <td>1020</td>\n",
              "      <td>1357</td>\n",
              "    </tr>\n",
              "  </tbody>\n",
              "</table>\n",
              "</div>"
            ],
            "text/plain": [
              "               id             date  ...  sqft_living15  sqft_lot15\n",
              "21603  7852140040  20140825T000000  ...           2270        5731\n",
              "21604  9834201367  20150126T000000  ...           1400        1230\n",
              "21605  3448900210  20141014T000000  ...           2520        6023\n",
              "21606  7936000429  20150326T000000  ...           2050        6200\n",
              "21607  2997800021  20150219T000000  ...           1330        1265\n",
              "21608   263000018  20140521T000000  ...           1530        1509\n",
              "21609  6600060120  20150223T000000  ...           1830        7200\n",
              "21610  1523300141  20140623T000000  ...           1020        2007\n",
              "21611   291310100  20150116T000000  ...           1410        1287\n",
              "21612  1523300157  20141015T000000  ...           1020        1357\n",
              "\n",
              "[10 rows x 21 columns]"
            ]
          },
          "metadata": {},
          "execution_count": 120
        }
      ]
    },
    {
      "cell_type": "code",
      "metadata": {
        "colab": {
          "base_uri": "https://localhost:8080/"
        },
        "id": "up76dMZdA0zW",
        "outputId": "245eb20c-71a5-4250-b6d4-9ec0e316b559"
      },
      "source": [
        "#comando padrão para descrição dos dados\n",
        "df1.describe()"
      ],
      "execution_count": null,
      "outputs": [
        {
          "output_type": "execute_result",
          "data": {
            "text/html": [
              "<div>\n",
              "<style scoped>\n",
              "    .dataframe tbody tr th:only-of-type {\n",
              "        vertical-align: middle;\n",
              "    }\n",
              "\n",
              "    .dataframe tbody tr th {\n",
              "        vertical-align: top;\n",
              "    }\n",
              "\n",
              "    .dataframe thead th {\n",
              "        text-align: right;\n",
              "    }\n",
              "</style>\n",
              "<table border=\"1\" class=\"dataframe\">\n",
              "  <thead>\n",
              "    <tr style=\"text-align: right;\">\n",
              "      <th></th>\n",
              "      <th>id</th>\n",
              "      <th>price</th>\n",
              "      <th>bedrooms</th>\n",
              "      <th>bathrooms</th>\n",
              "      <th>sqft_living</th>\n",
              "      <th>sqft_lot</th>\n",
              "      <th>floors</th>\n",
              "      <th>waterfront</th>\n",
              "      <th>view</th>\n",
              "      <th>condition</th>\n",
              "      <th>grade</th>\n",
              "      <th>sqft_above</th>\n",
              "      <th>sqft_basement</th>\n",
              "      <th>yr_built</th>\n",
              "      <th>yr_renovated</th>\n",
              "      <th>zipcode</th>\n",
              "      <th>lat</th>\n",
              "      <th>long</th>\n",
              "      <th>sqft_living15</th>\n",
              "      <th>sqft_lot15</th>\n",
              "    </tr>\n",
              "  </thead>\n",
              "  <tbody>\n",
              "    <tr>\n",
              "      <th>count</th>\n",
              "      <td>2.161300e+04</td>\n",
              "      <td>2.161300e+04</td>\n",
              "      <td>21613.000000</td>\n",
              "      <td>21613.000000</td>\n",
              "      <td>21613.000000</td>\n",
              "      <td>2.161300e+04</td>\n",
              "      <td>21613.000000</td>\n",
              "      <td>21613.000000</td>\n",
              "      <td>21613.000000</td>\n",
              "      <td>21613.000000</td>\n",
              "      <td>21613.000000</td>\n",
              "      <td>21613.000000</td>\n",
              "      <td>21613.000000</td>\n",
              "      <td>21613.000000</td>\n",
              "      <td>21613.000000</td>\n",
              "      <td>21613.000000</td>\n",
              "      <td>21613.000000</td>\n",
              "      <td>21613.000000</td>\n",
              "      <td>21613.000000</td>\n",
              "      <td>21613.000000</td>\n",
              "    </tr>\n",
              "    <tr>\n",
              "      <th>mean</th>\n",
              "      <td>4.580302e+09</td>\n",
              "      <td>5.400881e+05</td>\n",
              "      <td>3.370842</td>\n",
              "      <td>2.114757</td>\n",
              "      <td>2079.899736</td>\n",
              "      <td>1.510697e+04</td>\n",
              "      <td>1.494309</td>\n",
              "      <td>0.007542</td>\n",
              "      <td>0.234303</td>\n",
              "      <td>3.409430</td>\n",
              "      <td>7.656873</td>\n",
              "      <td>1788.390691</td>\n",
              "      <td>291.509045</td>\n",
              "      <td>1971.005136</td>\n",
              "      <td>84.402258</td>\n",
              "      <td>98077.939805</td>\n",
              "      <td>47.560053</td>\n",
              "      <td>-122.213896</td>\n",
              "      <td>1986.552492</td>\n",
              "      <td>12768.455652</td>\n",
              "    </tr>\n",
              "    <tr>\n",
              "      <th>std</th>\n",
              "      <td>2.876566e+09</td>\n",
              "      <td>3.671272e+05</td>\n",
              "      <td>0.930062</td>\n",
              "      <td>0.770163</td>\n",
              "      <td>918.440897</td>\n",
              "      <td>4.142051e+04</td>\n",
              "      <td>0.539989</td>\n",
              "      <td>0.086517</td>\n",
              "      <td>0.766318</td>\n",
              "      <td>0.650743</td>\n",
              "      <td>1.175459</td>\n",
              "      <td>828.090978</td>\n",
              "      <td>442.575043</td>\n",
              "      <td>29.373411</td>\n",
              "      <td>401.679240</td>\n",
              "      <td>53.505026</td>\n",
              "      <td>0.138564</td>\n",
              "      <td>0.140828</td>\n",
              "      <td>685.391304</td>\n",
              "      <td>27304.179631</td>\n",
              "    </tr>\n",
              "    <tr>\n",
              "      <th>min</th>\n",
              "      <td>1.000102e+06</td>\n",
              "      <td>7.500000e+04</td>\n",
              "      <td>0.000000</td>\n",
              "      <td>0.000000</td>\n",
              "      <td>290.000000</td>\n",
              "      <td>5.200000e+02</td>\n",
              "      <td>1.000000</td>\n",
              "      <td>0.000000</td>\n",
              "      <td>0.000000</td>\n",
              "      <td>1.000000</td>\n",
              "      <td>1.000000</td>\n",
              "      <td>290.000000</td>\n",
              "      <td>0.000000</td>\n",
              "      <td>1900.000000</td>\n",
              "      <td>0.000000</td>\n",
              "      <td>98001.000000</td>\n",
              "      <td>47.155900</td>\n",
              "      <td>-122.519000</td>\n",
              "      <td>399.000000</td>\n",
              "      <td>651.000000</td>\n",
              "    </tr>\n",
              "    <tr>\n",
              "      <th>25%</th>\n",
              "      <td>2.123049e+09</td>\n",
              "      <td>3.219500e+05</td>\n",
              "      <td>3.000000</td>\n",
              "      <td>1.750000</td>\n",
              "      <td>1427.000000</td>\n",
              "      <td>5.040000e+03</td>\n",
              "      <td>1.000000</td>\n",
              "      <td>0.000000</td>\n",
              "      <td>0.000000</td>\n",
              "      <td>3.000000</td>\n",
              "      <td>7.000000</td>\n",
              "      <td>1190.000000</td>\n",
              "      <td>0.000000</td>\n",
              "      <td>1951.000000</td>\n",
              "      <td>0.000000</td>\n",
              "      <td>98033.000000</td>\n",
              "      <td>47.471000</td>\n",
              "      <td>-122.328000</td>\n",
              "      <td>1490.000000</td>\n",
              "      <td>5100.000000</td>\n",
              "    </tr>\n",
              "    <tr>\n",
              "      <th>50%</th>\n",
              "      <td>3.904930e+09</td>\n",
              "      <td>4.500000e+05</td>\n",
              "      <td>3.000000</td>\n",
              "      <td>2.250000</td>\n",
              "      <td>1910.000000</td>\n",
              "      <td>7.618000e+03</td>\n",
              "      <td>1.500000</td>\n",
              "      <td>0.000000</td>\n",
              "      <td>0.000000</td>\n",
              "      <td>3.000000</td>\n",
              "      <td>7.000000</td>\n",
              "      <td>1560.000000</td>\n",
              "      <td>0.000000</td>\n",
              "      <td>1975.000000</td>\n",
              "      <td>0.000000</td>\n",
              "      <td>98065.000000</td>\n",
              "      <td>47.571800</td>\n",
              "      <td>-122.230000</td>\n",
              "      <td>1840.000000</td>\n",
              "      <td>7620.000000</td>\n",
              "    </tr>\n",
              "    <tr>\n",
              "      <th>75%</th>\n",
              "      <td>7.308900e+09</td>\n",
              "      <td>6.450000e+05</td>\n",
              "      <td>4.000000</td>\n",
              "      <td>2.500000</td>\n",
              "      <td>2550.000000</td>\n",
              "      <td>1.068800e+04</td>\n",
              "      <td>2.000000</td>\n",
              "      <td>0.000000</td>\n",
              "      <td>0.000000</td>\n",
              "      <td>4.000000</td>\n",
              "      <td>8.000000</td>\n",
              "      <td>2210.000000</td>\n",
              "      <td>560.000000</td>\n",
              "      <td>1997.000000</td>\n",
              "      <td>0.000000</td>\n",
              "      <td>98118.000000</td>\n",
              "      <td>47.678000</td>\n",
              "      <td>-122.125000</td>\n",
              "      <td>2360.000000</td>\n",
              "      <td>10083.000000</td>\n",
              "    </tr>\n",
              "    <tr>\n",
              "      <th>max</th>\n",
              "      <td>9.900000e+09</td>\n",
              "      <td>7.700000e+06</td>\n",
              "      <td>33.000000</td>\n",
              "      <td>8.000000</td>\n",
              "      <td>13540.000000</td>\n",
              "      <td>1.651359e+06</td>\n",
              "      <td>3.500000</td>\n",
              "      <td>1.000000</td>\n",
              "      <td>4.000000</td>\n",
              "      <td>5.000000</td>\n",
              "      <td>13.000000</td>\n",
              "      <td>9410.000000</td>\n",
              "      <td>4820.000000</td>\n",
              "      <td>2015.000000</td>\n",
              "      <td>2015.000000</td>\n",
              "      <td>98199.000000</td>\n",
              "      <td>47.777600</td>\n",
              "      <td>-121.315000</td>\n",
              "      <td>6210.000000</td>\n",
              "      <td>871200.000000</td>\n",
              "    </tr>\n",
              "  </tbody>\n",
              "</table>\n",
              "</div>"
            ],
            "text/plain": [
              "                 id         price  ...  sqft_living15     sqft_lot15\n",
              "count  2.161300e+04  2.161300e+04  ...   21613.000000   21613.000000\n",
              "mean   4.580302e+09  5.400881e+05  ...    1986.552492   12768.455652\n",
              "std    2.876566e+09  3.671272e+05  ...     685.391304   27304.179631\n",
              "min    1.000102e+06  7.500000e+04  ...     399.000000     651.000000\n",
              "25%    2.123049e+09  3.219500e+05  ...    1490.000000    5100.000000\n",
              "50%    3.904930e+09  4.500000e+05  ...    1840.000000    7620.000000\n",
              "75%    7.308900e+09  6.450000e+05  ...    2360.000000   10083.000000\n",
              "max    9.900000e+09  7.700000e+06  ...    6210.000000  871200.000000\n",
              "\n",
              "[8 rows x 20 columns]"
            ]
          },
          "metadata": {},
          "execution_count": 121
        }
      ]
    },
    {
      "cell_type": "markdown",
      "metadata": {
        "id": "nVVvmXJbVmge"
      },
      "source": [
        "## 3.2. Tipos de dados"
      ]
    },
    {
      "cell_type": "markdown",
      "metadata": {
        "id": "eEl5hK8dVw9w"
      },
      "source": [
        "No pandas temos 4 tipos de dados mais comuns: \n",
        "\n",
        "* O número inteiro (int)\n",
        "* O número com decimal (float)\n",
        "* As datas (datetime)\n",
        "* E por fim as strings e outras combinações que são tratadas como objeto (object)\n",
        "\n",
        "Fazer cálculos e resolver funções com tipos de dados diferentes podem retornar erros."
      ]
    },
    {
      "cell_type": "code",
      "metadata": {
        "colab": {
          "base_uri": "https://localhost:8080/"
        },
        "id": "XKJEICNdVwhY",
        "outputId": "0043549b-a714-41d6-b6ca-bc368fd75133"
      },
      "source": [
        "# verificando os tipos de dados\n",
        "df1.dtypes"
      ],
      "execution_count": null,
      "outputs": [
        {
          "output_type": "execute_result",
          "data": {
            "text/plain": [
              "id                 int64\n",
              "date              object\n",
              "price            float64\n",
              "bedrooms           int64\n",
              "bathrooms        float64\n",
              "sqft_living        int64\n",
              "sqft_lot           int64\n",
              "floors           float64\n",
              "waterfront         int64\n",
              "view               int64\n",
              "condition          int64\n",
              "grade              int64\n",
              "sqft_above         int64\n",
              "sqft_basement      int64\n",
              "yr_built           int64\n",
              "yr_renovated       int64\n",
              "zipcode            int64\n",
              "lat              float64\n",
              "long             float64\n",
              "sqft_living15      int64\n",
              "sqft_lot15         int64\n",
              "dtype: object"
            ]
          },
          "metadata": {},
          "execution_count": 122
        }
      ]
    },
    {
      "cell_type": "markdown",
      "metadata": {
        "id": "3AHIGPoAXIlD"
      },
      "source": [
        "Note que o date (data) está como **object**, transformaremos em datetime:\n",
        "\n",
        "\n"
      ]
    },
    {
      "cell_type": "code",
      "metadata": {
        "colab": {
          "base_uri": "https://localhost:8080/"
        },
        "id": "xjX4Bi2GVmD7",
        "outputId": "ef0a4718-d768-42d7-a130-8f716c12b420"
      },
      "source": [
        "# transformando a coluna date em datetime\n",
        "df1['date'] = pd.to_datetime( df1['date'] )\n",
        "\n",
        "df1.dtypes"
      ],
      "execution_count": null,
      "outputs": [
        {
          "output_type": "execute_result",
          "data": {
            "text/plain": [
              "id                        int64\n",
              "date             datetime64[ns]\n",
              "price                   float64\n",
              "bedrooms                  int64\n",
              "bathrooms               float64\n",
              "sqft_living               int64\n",
              "sqft_lot                  int64\n",
              "floors                  float64\n",
              "waterfront                int64\n",
              "view                      int64\n",
              "condition                 int64\n",
              "grade                     int64\n",
              "sqft_above                int64\n",
              "sqft_basement             int64\n",
              "yr_built                  int64\n",
              "yr_renovated              int64\n",
              "zipcode                   int64\n",
              "lat                     float64\n",
              "long                    float64\n",
              "sqft_living15             int64\n",
              "sqft_lot15                int64\n",
              "dtype: object"
            ]
          },
          "metadata": {},
          "execution_count": 123
        }
      ]
    },
    {
      "cell_type": "markdown",
      "metadata": {
        "id": "pfT8mTXpYOGT"
      },
      "source": [
        "## 3.3. Checando dados faltantes"
      ]
    },
    {
      "cell_type": "markdown",
      "metadata": {
        "id": "AGu4XznaYbks"
      },
      "source": [
        "Checar se tem dados vazios"
      ]
    },
    {
      "cell_type": "code",
      "metadata": {
        "colab": {
          "base_uri": "https://localhost:8080/"
        },
        "id": "7uaDtnPeYwdt",
        "outputId": "89aaf5d3-4360-4720-d368-e64e118a98b0"
      },
      "source": [
        "# check na\n",
        "\n",
        "df1.isna().sum() "
      ],
      "execution_count": null,
      "outputs": [
        {
          "output_type": "execute_result",
          "data": {
            "text/plain": [
              "id               0\n",
              "date             0\n",
              "price            0\n",
              "bedrooms         0\n",
              "bathrooms        0\n",
              "sqft_living      0\n",
              "sqft_lot         0\n",
              "floors           0\n",
              "waterfront       0\n",
              "view             0\n",
              "condition        0\n",
              "grade            0\n",
              "sqft_above       0\n",
              "sqft_basement    0\n",
              "yr_built         0\n",
              "yr_renovated     0\n",
              "zipcode          0\n",
              "lat              0\n",
              "long             0\n",
              "sqft_living15    0\n",
              "sqft_lot15       0\n",
              "dtype: int64"
            ]
          },
          "metadata": {},
          "execution_count": 124
        }
      ]
    },
    {
      "cell_type": "markdown",
      "metadata": {
        "id": "WgeOisE7ZRNq"
      },
      "source": [
        "Não contém nenhum dado faltante, porém será criada uma coluna com alguns dados faltantes para aplicarmos técnicas de tratamento de valores nulos (NaN)."
      ]
    },
    {
      "cell_type": "code",
      "metadata": {
        "id": "SINplhS1wgda"
      },
      "source": [
        "NaN = np.nan\n",
        "df1['need_reform'] = NaN #precisa de reforma 1-sim, 0-não\n",
        "df1.loc[df1['yr_built'] < 1980, 'need_reform'] = 1"
      ],
      "execution_count": null,
      "outputs": []
    },
    {
      "cell_type": "code",
      "metadata": {
        "colab": {
          "base_uri": "https://localhost:8080/"
        },
        "id": "k3D0ZeRQuob_",
        "outputId": "40bda48c-f3fe-49a6-e886-b6ae0b68f3cf"
      },
      "source": [
        "# ver dados faltantes da coluna\n",
        "df1['need_reform'].isnull().sum() "
      ],
      "execution_count": null,
      "outputs": [
        {
          "output_type": "execute_result",
          "data": {
            "text/plain": [
              "9279"
            ]
          },
          "metadata": {},
          "execution_count": 126
        }
      ]
    },
    {
      "cell_type": "code",
      "metadata": {
        "id": "d2LAHMbN2C1b"
      },
      "source": [
        "# trocar os dados faltantes por 0\n",
        "df1['need_reform'].fillna(0, inplace = True) # (inplace = True) sobescreve a coluna diretamente"
      ],
      "execution_count": null,
      "outputs": []
    },
    {
      "cell_type": "code",
      "metadata": {
        "colab": {
          "base_uri": "https://localhost:8080/"
        },
        "id": "NVWnPEtq6fM5",
        "outputId": "e3362822-c67e-4f8a-cfbc-bc1c6a1cf758"
      },
      "source": [
        "df1['need_reform'].isnull().sum() "
      ],
      "execution_count": null,
      "outputs": [
        {
          "output_type": "execute_result",
          "data": {
            "text/plain": [
              "0"
            ]
          },
          "metadata": {},
          "execution_count": 128
        }
      ]
    },
    {
      "cell_type": "markdown",
      "metadata": {
        "id": "Xy2lZ7sULjOf"
      },
      "source": [
        "## 3.4. Criando colunas auxiliares"
      ]
    },
    {
      "cell_type": "markdown",
      "metadata": {
        "id": "niw9z-QGM1xB"
      },
      "source": [
        "\n",
        "Usaremos uma função anônima (`lambda`) e aplicaremos em cada linha(apply), depois substituiremos a coluna atual pela coluna das condicionais, poderia ser criada outra coluna mudando apenas o nome se assim desejar."
      ]
    },
    {
      "cell_type": "code",
      "metadata": {
        "id": "Z_-snECsLwFk"
      },
      "source": [
        "# aplique uma função em cada linha\n",
        "\n",
        "df1['condition'] = df1['condition'].apply( lambda x: 'ruim' if x <= 2 else 'regular' if (x == 3) | (x == 4) else 'bom' )"
      ],
      "execution_count": null,
      "outputs": []
    },
    {
      "cell_type": "markdown",
      "metadata": {
        "id": "8tpaVomudoDO"
      },
      "source": [
        "# 4.0. Estatística descritiva"
      ]
    },
    {
      "cell_type": "code",
      "metadata": {
        "id": "aGf3kIqZgfZj"
      },
      "source": [
        "df2 =df1.copy()"
      ],
      "execution_count": null,
      "outputs": []
    },
    {
      "cell_type": "markdown",
      "metadata": {
        "id": "KmkH9nLQeCLt"
      },
      "source": [
        "Faremos alguns calculos estatísticos para observar a dispersão e medidas de tendência central."
      ]
    },
    {
      "cell_type": "markdown",
      "metadata": {
        "id": "gk1TA8Ou4BJ4"
      },
      "source": [
        "##4.1. Atributos numéricos"
      ]
    },
    {
      "cell_type": "code",
      "metadata": {
        "id": "CibdJI0od68Q"
      },
      "source": [
        "#atributos numéricos\n",
        "num_attributes = df2[['price', 'bedrooms', 'bathrooms', 'sqft_living', 'sqft_lot', 'floors', 'grade', 'sqft_above', 'sqft_basement'  ]]"
      ],
      "execution_count": null,
      "outputs": []
    },
    {
      "cell_type": "code",
      "metadata": {
        "colab": {
          "base_uri": "https://localhost:8080/",
          "height": 352
        },
        "id": "u4mDJHjkimM6",
        "outputId": "5c33d90a-648b-467a-9416-a0d16d03a740"
      },
      "source": [
        "# Medidas de Tendencia Central - Média (mean) e Mediana (median)\n",
        "ct1 = pd.DataFrame( num_attributes.apply( np.mean ) ).T\n",
        "ct2 = pd.DataFrame( num_attributes.apply( np.median ) ).T\n",
        "\n",
        "# Medidas de dispersão - std (desvio padrão), min, max, range (variação), skew (medidade de assimetria, se assimétrica para direita ou esquerda), kurtosis( achatamento da distribuição)\n",
        "d1 = pd.DataFrame( num_attributes.apply( np.std ) ).T \n",
        "d2 = pd.DataFrame( num_attributes.apply( min ) ).T \n",
        "d3 = pd.DataFrame( num_attributes.apply( max ) ).T \n",
        "d4 = pd.DataFrame( num_attributes.apply( lambda x: x.max() - x.min() ) ).T \n",
        "d5 = pd.DataFrame( num_attributes.apply( lambda x: x.skew() ) ).T \n",
        "d6 = pd.DataFrame( num_attributes.apply( lambda x: x.kurtosis() ) ).T \n",
        "\n",
        "# concatenar\n",
        "m = pd.concat( [d2, d3, d4, ct1, ct2, d1, d5, d6] ).T.reset_index()\n",
        "m.columns = ['attributes', 'min', 'max', 'range', 'mean', 'median', 'std', 'skew', 'kurtosis']\n",
        "m "
      ],
      "execution_count": null,
      "outputs": [
        {
          "output_type": "execute_result",
          "data": {
            "text/html": [
              "<div>\n",
              "<style scoped>\n",
              "    .dataframe tbody tr th:only-of-type {\n",
              "        vertical-align: middle;\n",
              "    }\n",
              "\n",
              "    .dataframe tbody tr th {\n",
              "        vertical-align: top;\n",
              "    }\n",
              "\n",
              "    .dataframe thead th {\n",
              "        text-align: right;\n",
              "    }\n",
              "</style>\n",
              "<table border=\"1\" class=\"dataframe\">\n",
              "  <thead>\n",
              "    <tr style=\"text-align: right;\">\n",
              "      <th></th>\n",
              "      <th>attributes</th>\n",
              "      <th>min</th>\n",
              "      <th>max</th>\n",
              "      <th>range</th>\n",
              "      <th>mean</th>\n",
              "      <th>median</th>\n",
              "      <th>std</th>\n",
              "      <th>skew</th>\n",
              "      <th>kurtosis</th>\n",
              "    </tr>\n",
              "  </thead>\n",
              "  <tbody>\n",
              "    <tr>\n",
              "      <th>0</th>\n",
              "      <td>price</td>\n",
              "      <td>75000.0</td>\n",
              "      <td>7700000.0</td>\n",
              "      <td>7625000.0</td>\n",
              "      <td>540088.141767</td>\n",
              "      <td>450000.00</td>\n",
              "      <td>367118.703181</td>\n",
              "      <td>4.024069</td>\n",
              "      <td>34.585540</td>\n",
              "    </tr>\n",
              "    <tr>\n",
              "      <th>1</th>\n",
              "      <td>bedrooms</td>\n",
              "      <td>0.0</td>\n",
              "      <td>33.0</td>\n",
              "      <td>33.0</td>\n",
              "      <td>3.370842</td>\n",
              "      <td>3.00</td>\n",
              "      <td>0.930040</td>\n",
              "      <td>1.974300</td>\n",
              "      <td>49.063653</td>\n",
              "    </tr>\n",
              "    <tr>\n",
              "      <th>2</th>\n",
              "      <td>bathrooms</td>\n",
              "      <td>0.0</td>\n",
              "      <td>8.0</td>\n",
              "      <td>8.0</td>\n",
              "      <td>2.114757</td>\n",
              "      <td>2.25</td>\n",
              "      <td>0.770145</td>\n",
              "      <td>0.511108</td>\n",
              "      <td>1.279902</td>\n",
              "    </tr>\n",
              "    <tr>\n",
              "      <th>3</th>\n",
              "      <td>sqft_living</td>\n",
              "      <td>290.0</td>\n",
              "      <td>13540.0</td>\n",
              "      <td>13250.0</td>\n",
              "      <td>2079.899736</td>\n",
              "      <td>1910.00</td>\n",
              "      <td>918.419649</td>\n",
              "      <td>1.471555</td>\n",
              "      <td>5.243093</td>\n",
              "    </tr>\n",
              "    <tr>\n",
              "      <th>4</th>\n",
              "      <td>sqft_lot</td>\n",
              "      <td>520.0</td>\n",
              "      <td>1651359.0</td>\n",
              "      <td>1650839.0</td>\n",
              "      <td>15106.967566</td>\n",
              "      <td>7618.00</td>\n",
              "      <td>41419.553273</td>\n",
              "      <td>13.060019</td>\n",
              "      <td>285.077820</td>\n",
              "    </tr>\n",
              "    <tr>\n",
              "      <th>5</th>\n",
              "      <td>floors</td>\n",
              "      <td>1.0</td>\n",
              "      <td>3.5</td>\n",
              "      <td>2.5</td>\n",
              "      <td>1.494309</td>\n",
              "      <td>1.50</td>\n",
              "      <td>0.539976</td>\n",
              "      <td>0.616177</td>\n",
              "      <td>-0.484723</td>\n",
              "    </tr>\n",
              "    <tr>\n",
              "      <th>6</th>\n",
              "      <td>grade</td>\n",
              "      <td>1.0</td>\n",
              "      <td>13.0</td>\n",
              "      <td>12.0</td>\n",
              "      <td>7.656873</td>\n",
              "      <td>7.00</td>\n",
              "      <td>1.175432</td>\n",
              "      <td>0.771103</td>\n",
              "      <td>1.190932</td>\n",
              "    </tr>\n",
              "    <tr>\n",
              "      <th>7</th>\n",
              "      <td>sqft_above</td>\n",
              "      <td>290.0</td>\n",
              "      <td>9410.0</td>\n",
              "      <td>9120.0</td>\n",
              "      <td>1788.390691</td>\n",
              "      <td>1560.00</td>\n",
              "      <td>828.071820</td>\n",
              "      <td>1.446664</td>\n",
              "      <td>3.402304</td>\n",
              "    </tr>\n",
              "    <tr>\n",
              "      <th>8</th>\n",
              "      <td>sqft_basement</td>\n",
              "      <td>0.0</td>\n",
              "      <td>4820.0</td>\n",
              "      <td>4820.0</td>\n",
              "      <td>291.509045</td>\n",
              "      <td>0.00</td>\n",
              "      <td>442.564804</td>\n",
              "      <td>1.577965</td>\n",
              "      <td>2.715574</td>\n",
              "    </tr>\n",
              "  </tbody>\n",
              "</table>\n",
              "</div>"
            ],
            "text/plain": [
              "      attributes      min        max  ...            std       skew    kurtosis\n",
              "0          price  75000.0  7700000.0  ...  367118.703181   4.024069   34.585540\n",
              "1       bedrooms      0.0       33.0  ...       0.930040   1.974300   49.063653\n",
              "2      bathrooms      0.0        8.0  ...       0.770145   0.511108    1.279902\n",
              "3    sqft_living    290.0    13540.0  ...     918.419649   1.471555    5.243093\n",
              "4       sqft_lot    520.0  1651359.0  ...   41419.553273  13.060019  285.077820\n",
              "5         floors      1.0        3.5  ...       0.539976   0.616177   -0.484723\n",
              "6          grade      1.0       13.0  ...       1.175432   0.771103    1.190932\n",
              "7     sqft_above    290.0     9410.0  ...     828.071820   1.446664    3.402304\n",
              "8  sqft_basement      0.0     4820.0  ...     442.564804   1.577965    2.715574\n",
              "\n",
              "[9 rows x 9 columns]"
            ]
          },
          "metadata": {},
          "execution_count": 132
        }
      ]
    },
    {
      "cell_type": "markdown",
      "metadata": {
        "id": "YI-ROBE1TzNf"
      },
      "source": [
        "Note que ao fazer o calculo de cada medida transformamos a coluna em um dataframe com `pd.DataFrame`, e passamos o T de transpose, para \"virarmos\" o dataframe, por fim concatenamos todas as colunas em um único df e renomeamos as colunas."
      ]
    },
    {
      "cell_type": "markdown",
      "metadata": {
        "id": "6EuSNZZrXd5c"
      },
      "source": [
        "Dados inconclusivos são de casas sem quartos ou banheiros, iremos investigar isso utilizando gráficos.\n"
      ]
    },
    {
      "cell_type": "code",
      "metadata": {
        "colab": {
          "base_uri": "https://localhost:8080/",
          "height": 786
        },
        "id": "kNgZJcqIhjcd",
        "outputId": "005b84be-9112-450d-a931-88094c97f532"
      },
      "source": [
        "# histograma dos atributos numéricos\n",
        "params = {'axes.titlesize':'16',\n",
        "          'xtick.labelsize':'12',\n",
        "          'ytick.labelsize':'12'\n",
        "          }\n",
        "plt.rcParams.update(params)\n",
        "num_attributes.hist(bins=200, figsize=(30, 10))\n"
      ],
      "execution_count": null,
      "outputs": [
        {
          "output_type": "execute_result",
          "data": {
            "text/plain": [
              "array([[<matplotlib.axes._subplots.AxesSubplot object at 0x7f11b6d00410>,\n",
              "        <matplotlib.axes._subplots.AxesSubplot object at 0x7f11b6caf610>,\n",
              "        <matplotlib.axes._subplots.AxesSubplot object at 0x7f11b6c51c10>],\n",
              "       [<matplotlib.axes._subplots.AxesSubplot object at 0x7f11b6c71e50>,\n",
              "        <matplotlib.axes._subplots.AxesSubplot object at 0x7f11b6c32490>,\n",
              "        <matplotlib.axes._subplots.AxesSubplot object at 0x7f11b6be9a90>],\n",
              "       [<matplotlib.axes._subplots.AxesSubplot object at 0x7f11b6bab150>,\n",
              "        <matplotlib.axes._subplots.AxesSubplot object at 0x7f11b6b5f690>,\n",
              "        <matplotlib.axes._subplots.AxesSubplot object at 0x7f11b6b5f6d0>]],\n",
              "      dtype=object)"
            ]
          },
          "metadata": {},
          "execution_count": 133
        },
        {
          "output_type": "display_data",
          "data": {
            "image/png": "[encoded data removed]",
            "text/plain": [
              "<Figure size 2160x720 with 9 Axes>"
            ]
          },
          "metadata": {
            "needs_background": "light"
          }
        }
      ]
    },
    {
      "cell_type": "markdown",
      "metadata": {
        "id": "h8ENT-B1stb-"
      },
      "source": [
        "Olhando os histogramas notamos que tem poucas casas com nenhum quarto e banheiro, pode ser algum erro de digitação.\n"
      ]
    },
    {
      "cell_type": "code",
      "metadata": {
        "colab": {
          "base_uri": "https://localhost:8080/"
        },
        "id": "GqifAlAqunFv",
        "outputId": "81865dd6-4d49-490c-9ca6-d724477bd776"
      },
      "source": [
        "# filtrando casas com banheiro e quarto 0\n",
        "banheiro = len(df2[df2['bathrooms'] == 0])\n",
        "quarto = len(df2[df2['bedrooms'] == 0])\n",
        "banheiro_quarto = len(df2[((df2.bathrooms == 0 ) & (df2.bedrooms ==0))])\n",
        "\n",
        "print(f'Tem {banheiro} casas sem banheiro' )\n",
        "print(f'Tem {quarto} casas sem quarto' )\n",
        "print(f'Tem {banheiro_quarto } casas sem quarto e banheiro' )"
      ],
      "execution_count": null,
      "outputs": [
        {
          "output_type": "stream",
          "name": "stdout",
          "text": [
            "Tem 10 casas sem banheiro\n",
            "Tem 13 casas sem quarto\n",
            "Tem 7 casas sem quarto e banheiro\n"
          ]
        }
      ]
    },
    {
      "cell_type": "markdown",
      "metadata": {
        "id": "Jsleider2HXB"
      },
      "source": [
        "Pelo número de casas com quarto e banheiro 0, será optado por remover essas linhas do dataframe.\n"
      ]
    },
    {
      "cell_type": "code",
      "metadata": {
        "id": "Akg9w1NWyaKo"
      },
      "source": [
        "# apagando linhas de casas com quarto ou banheiro 0\n",
        "df2.drop(df2[((df2.bathrooms == 0 ) | (df2.bedrooms ==0))].index, inplace=True)"
      ],
      "execution_count": null,
      "outputs": []
    },
    {
      "cell_type": "markdown",
      "metadata": {
        "id": "ki9T-_zf4MGo"
      },
      "source": [
        "## 4.2. Atributos categóricos"
      ]
    },
    {
      "cell_type": "code",
      "metadata": {
        "id": "eKc3G1fn5jQn"
      },
      "source": [
        "df3 = df2.copy()"
      ],
      "execution_count": null,
      "outputs": []
    },
    {
      "cell_type": "markdown",
      "metadata": {
        "id": "wY1ajYK35JKI"
      },
      "source": [
        "Como são poucas colunas de dados categóricos criaremos mais algumas."
      ]
    },
    {
      "cell_type": "code",
      "metadata": {
        "id": "CIUVS9ST5VHH"
      },
      "source": [
        "# transformação da coluna waterflont(vista pro mar)\n",
        "df3['waterfront'] = df3['waterfront'].apply( lambda x: 'sem_vista' if x == 0 else 'com_vista')"
      ],
      "execution_count": null,
      "outputs": []
    },
    {
      "cell_type": "markdown",
      "metadata": {
        "id": "X9gHSVQu7Idd"
      },
      "source": [
        "Com base na quantidade de quartos e data da construção construiremos duas colunas:\n",
        "\n",
        "* Construir coluna `history_house`, se ['yr_built'] > 2015 - **casa_nova**, Se ['yr_built'] > 1990 - **casa_antiga**, senão **casa_muito_velha**\n",
        "\n",
        "* Construir house_type, se ['bedrooms'] < 2 - **kitnet**, Se ['bedrooms'] <= 3 - **apartamento**, Se ['bedrooms'] < 5 **casa**, senão mansão"
      ]
    },
    {
      "cell_type": "code",
      "metadata": {
        "id": "Qcn_ilO86c2Z"
      },
      "source": [
        "# Criar uma coluna nova, preenchida com NA\n",
        "# Substituir o valor NA, conforma a condicional\n",
        "df3['history_house'] = 'NA'\n",
        "df3['house_type'] = 'NA'\n",
        "\n",
        "df3['history_house'] = df3['yr_built'].apply( lambda x: 'casa_nova' if x > 2000 else 'casa_antiga' if x > 1970 else 'casa_muito_antiga' )\n",
        "df3['house_type'] = df3['bedrooms'].apply( lambda x: 'kitnet' if x < 2 else 'apartamento' if x <= 3 else 'casa' if x < 6 else 'mansão')"
      ],
      "execution_count": null,
      "outputs": []
    },
    {
      "cell_type": "markdown",
      "metadata": {
        "id": "vTryLhJ_LOEO"
      },
      "source": [
        "***Plotaremos gráficos para sabermos a quantidade de casas com esses atributos:***"
      ]
    },
    {
      "cell_type": "code",
      "metadata": {
        "colab": {
          "base_uri": "https://localhost:8080/"
        },
        "id": "xr5lZiakKQHt",
        "outputId": "a65426e3-346d-4298-ea11-2585d3c1eb07"
      },
      "source": [
        "plt.subplots(figsize=(40, 7))\n",
        "\n",
        "# waterfront\n",
        "plt.subplot( 1, 3, 1 )\n",
        "sns.countplot( df3['waterfront'] )\n",
        "\n",
        "# history_house\n",
        "plt.subplot( 1, 3, 2 )\n",
        "sns.countplot( df3['history_house'] )\n",
        "\n",
        "# house_type\n",
        "plt.subplot( 1, 3, 3 )\n",
        "sns.countplot( df3['house_type'] )\n"
      ],
      "execution_count": null,
      "outputs": [
        {
          "output_type": "stream",
          "name": "stderr",
          "text": [
            "/usr/local/lib/python3.7/dist-packages/seaborn/_decorators.py:43: FutureWarning: Pass the following variable as a keyword arg: x. From version 0.12, the only valid positional argument will be `data`, and passing other arguments without an explicit keyword will result in an error or misinterpretation.\n",
            "  FutureWarning\n",
            "/usr/local/lib/python3.7/dist-packages/seaborn/_decorators.py:43: FutureWarning: Pass the following variable as a keyword arg: x. From version 0.12, the only valid positional argument will be `data`, and passing other arguments without an explicit keyword will result in an error or misinterpretation.\n",
            "  FutureWarning\n",
            "/usr/local/lib/python3.7/dist-packages/seaborn/_decorators.py:43: FutureWarning: Pass the following variable as a keyword arg: x. From version 0.12, the only valid positional argument will be `data`, and passing other arguments without an explicit keyword will result in an error or misinterpretation.\n",
            "  FutureWarning\n"
          ]
        },
        {
          "output_type": "execute_result",
          "data": {
            "text/plain": [
              "<matplotlib.axes._subplots.AxesSubplot at 0x7f11b565dc50>"
            ]
          },
          "metadata": {},
          "execution_count": 139
        },
        {
          "output_type": "display_data",
          "data": {
            "image/png": "[encoded data removed]",
            "text/plain": [
              "<Figure size 2880x504 with 3 Axes>"
            ]
          },
          "metadata": {
            "needs_background": "light"
          }
        }
      ]
    },
    {
      "cell_type": "markdown",
      "metadata": {
        "id": "g9btGu-9MRV8"
      },
      "source": [
        "# 5.0. Usando funções de busca e agregação"
      ]
    },
    {
      "cell_type": "code",
      "metadata": {
        "id": "HQgwzGa36hxA"
      },
      "source": [
        "df4 = df3.copy()"
      ],
      "execution_count": null,
      "outputs": []
    },
    {
      "cell_type": "markdown",
      "metadata": {
        "id": "pDrjwA8xMap6"
      },
      "source": [
        "Funções de agregação e busca são semelhantes a tabela dinâmica do Excel, o group by e a cláusula where do SQL:\n",
        "\n",
        "1. Qual a data mais antiga de construção de um imóvel?\n",
        "2. Qual a data mais antiga de um imóvel com vista pro mar?\n",
        "3. Quantos imóveis tem 2 andares e mais de 5 banheiros?\n",
        "4. Quantos imóveis estão com a condição igual a “boa”  e tem ano de construção menor que 1950?\n",
        "5. Quantos imóveis estão com a condição igual a “ruim”e possuem “vista para água” ?\n",
        "6. Qual o preço médio de cada tipo de casa?\n",
        "7. Qual o valor médio das casas com vista pro mar e sem vista pro mar ?\n",
        "8. Quantas casas foram construídas entre 2000 e 2015 ?\n",
        "9. Qual o ano com maior valor de venda?\n",
        "10. Quantos imóveis foram reformados?"
      ]
    },
    {
      "cell_type": "markdown",
      "metadata": {
        "id": "A08zAbR86Ioo"
      },
      "source": [
        "##1. Qual a data mais antiga de construção de um imóvel?\n"
      ]
    },
    {
      "cell_type": "code",
      "metadata": {
        "colab": {
          "base_uri": "https://localhost:8080/"
        },
        "id": "VspO5BSi6aJ4",
        "outputId": "6840c15d-096f-4f16-9b2f-d2e92b077f49"
      },
      "source": [
        "df4['yr_built'].sort_values(ascending=True).reset_index(drop=True)[0]"
      ],
      "execution_count": null,
      "outputs": [
        {
          "output_type": "execute_result",
          "data": {
            "text/plain": [
              "1900"
            ]
          },
          "metadata": {},
          "execution_count": 141
        }
      ]
    },
    {
      "cell_type": "code",
      "metadata": {
        "colab": {
          "base_uri": "https://localhost:8080/"
        },
        "id": "RO3AnhVqc43B",
        "outputId": "b77cb249-168d-4903-e213-f9749541bfd8"
      },
      "source": [
        "df4['yr_built'].min()"
      ],
      "execution_count": null,
      "outputs": [
        {
          "output_type": "execute_result",
          "data": {
            "text/plain": [
              "1900"
            ]
          },
          "metadata": {},
          "execution_count": 142
        }
      ]
    },
    {
      "cell_type": "markdown",
      "metadata": {
        "id": "9I2FLVZV7Rab"
      },
      "source": [
        "##2. Qual a data mais antiga de um imóvel com vista pro mar?\n"
      ]
    },
    {
      "cell_type": "code",
      "metadata": {
        "colab": {
          "base_uri": "https://localhost:8080/"
        },
        "id": "fvvto9tn6ZmU",
        "outputId": "f0c7563e-73fd-4738-b4d3-8a2ce5692735"
      },
      "source": [
        "df4.loc[df4['waterfront'] == 'com_vista',['yr_built']].min()"
      ],
      "execution_count": null,
      "outputs": [
        {
          "output_type": "execute_result",
          "data": {
            "text/plain": [
              "yr_built    1903\n",
              "dtype: int64"
            ]
          },
          "metadata": {},
          "execution_count": 143
        }
      ]
    },
    {
      "cell_type": "markdown",
      "metadata": {
        "id": "6fLLCxI2AA4Z"
      },
      "source": [
        "##3. Quantos imóveis tem 2 andares e mais de 5 banheiros?\n"
      ]
    },
    {
      "cell_type": "code",
      "metadata": {
        "colab": {
          "base_uri": "https://localhost:8080/"
        },
        "id": "DfGazvcuAAdx",
        "outputId": "b55bb7ef-1043-4a65-f17a-023246521581"
      },
      "source": [
        "len(df4.query('floors == 2 and bathrooms > 5'))"
      ],
      "execution_count": null,
      "outputs": [
        {
          "output_type": "execute_result",
          "data": {
            "text/plain": [
              "36"
            ]
          },
          "metadata": {},
          "execution_count": 144
        }
      ]
    },
    {
      "cell_type": "markdown",
      "metadata": {
        "id": "VZrLyWACAocA"
      },
      "source": [
        "##4. Quantos imóveis estão com a condição igual a “bom”  e tem ano de construção menor que 1950?\n"
      ]
    },
    {
      "cell_type": "code",
      "metadata": {
        "colab": {
          "base_uri": "https://localhost:8080/"
        },
        "id": "DbsF18mXC_Ya",
        "outputId": "b4d2f08e-54e0-426a-97e0-73a8a1165342"
      },
      "source": [
        "len(df4.loc[(df4['condition'] == 'bom') & (df4['yr_built'] < 1950), 'id'])"
      ],
      "execution_count": null,
      "outputs": [
        {
          "output_type": "execute_result",
          "data": {
            "text/plain": [
              "826"
            ]
          },
          "metadata": {},
          "execution_count": 145
        }
      ]
    },
    {
      "cell_type": "markdown",
      "metadata": {
        "id": "5SdDEpPDEQsz"
      },
      "source": [
        "##5. Quantos imóveis estão com a condição igual a “ruim”e possuem “vista para água” ?"
      ]
    },
    {
      "cell_type": "code",
      "metadata": {
        "colab": {
          "base_uri": "https://localhost:8080/"
        },
        "id": "LiGlO2KxFqY0",
        "outputId": "8f64e462-d93d-468d-cf65-094276b7e0c4"
      },
      "source": [
        "(df4.loc[(df4['condition'] == 'ruim') & (df4['waterfront'] == 'com_vista'), 'id']).count()"
      ],
      "execution_count": null,
      "outputs": [
        {
          "output_type": "execute_result",
          "data": {
            "text/plain": [
              "2"
            ]
          },
          "metadata": {},
          "execution_count": 146
        }
      ]
    },
    {
      "cell_type": "markdown",
      "metadata": {
        "id": "v7C2leA9F4tT"
      },
      "source": [
        "##6. Qual o preço médio de cada tipo de casa?\n"
      ]
    },
    {
      "cell_type": "code",
      "metadata": {
        "colab": {
          "base_uri": "https://localhost:8080/"
        },
        "id": "x1LfRgAlF_0s",
        "outputId": "031b21bb-1207-4979-ad48-3d03f1d2b2e0"
      },
      "source": [
        "df4[['price', 'house_type']].groupby('house_type').mean().round(2)"
      ],
      "execution_count": null,
      "outputs": [
        {
          "output_type": "execute_result",
          "data": {
            "text/html": [
              "<div>\n",
              "<style scoped>\n",
              "    .dataframe tbody tr th:only-of-type {\n",
              "        vertical-align: middle;\n",
              "    }\n",
              "\n",
              "    .dataframe tbody tr th {\n",
              "        vertical-align: top;\n",
              "    }\n",
              "\n",
              "    .dataframe thead th {\n",
              "        text-align: right;\n",
              "    }\n",
              "</style>\n",
              "<table border=\"1\" class=\"dataframe\">\n",
              "  <thead>\n",
              "    <tr style=\"text-align: right;\">\n",
              "      <th></th>\n",
              "      <th>price</th>\n",
              "    </tr>\n",
              "    <tr>\n",
              "      <th>house_type</th>\n",
              "      <th></th>\n",
              "    </tr>\n",
              "  </thead>\n",
              "  <tbody>\n",
              "    <tr>\n",
              "      <th>apartamento</th>\n",
              "      <td>452006.72</td>\n",
              "    </tr>\n",
              "    <tr>\n",
              "      <th>casa</th>\n",
              "      <td>663951.83</td>\n",
              "    </tr>\n",
              "    <tr>\n",
              "      <th>kitnet</th>\n",
              "      <td>318224.15</td>\n",
              "    </tr>\n",
              "    <tr>\n",
              "      <th>mansão</th>\n",
              "      <td>850403.08</td>\n",
              "    </tr>\n",
              "  </tbody>\n",
              "</table>\n",
              "</div>"
            ],
            "text/plain": [
              "                 price\n",
              "house_type            \n",
              "apartamento  452006.72\n",
              "casa         663951.83\n",
              "kitnet       318224.15\n",
              "mansão       850403.08"
            ]
          },
          "metadata": {},
          "execution_count": 147
        }
      ]
    },
    {
      "cell_type": "code",
      "metadata": {
        "colab": {
          "base_uri": "https://localhost:8080/"
        },
        "id": "lRlAEcvBJCID",
        "outputId": "2e19343d-cf52-452b-d08f-7756bed61dd5"
      },
      "source": [
        "# se preferir usar a função semelhante da tabela dinâmica\n",
        "pd.pivot_table(df4, values=\"price\", columns=[\"house_type\"], aggfunc=np.average).round(2).T"
      ],
      "execution_count": null,
      "outputs": [
        {
          "output_type": "execute_result",
          "data": {
            "text/html": [
              "<div>\n",
              "<style scoped>\n",
              "    .dataframe tbody tr th:only-of-type {\n",
              "        vertical-align: middle;\n",
              "    }\n",
              "\n",
              "    .dataframe tbody tr th {\n",
              "        vertical-align: top;\n",
              "    }\n",
              "\n",
              "    .dataframe thead th {\n",
              "        text-align: right;\n",
              "    }\n",
              "</style>\n",
              "<table border=\"1\" class=\"dataframe\">\n",
              "  <thead>\n",
              "    <tr style=\"text-align: right;\">\n",
              "      <th></th>\n",
              "      <th>price</th>\n",
              "    </tr>\n",
              "    <tr>\n",
              "      <th>house_type</th>\n",
              "      <th></th>\n",
              "    </tr>\n",
              "  </thead>\n",
              "  <tbody>\n",
              "    <tr>\n",
              "      <th>apartamento</th>\n",
              "      <td>452006.72</td>\n",
              "    </tr>\n",
              "    <tr>\n",
              "      <th>casa</th>\n",
              "      <td>663951.83</td>\n",
              "    </tr>\n",
              "    <tr>\n",
              "      <th>kitnet</th>\n",
              "      <td>318224.15</td>\n",
              "    </tr>\n",
              "    <tr>\n",
              "      <th>mansão</th>\n",
              "      <td>850403.08</td>\n",
              "    </tr>\n",
              "  </tbody>\n",
              "</table>\n",
              "</div>"
            ],
            "text/plain": [
              "                 price\n",
              "house_type            \n",
              "apartamento  452006.72\n",
              "casa         663951.83\n",
              "kitnet       318224.15\n",
              "mansão       850403.08"
            ]
          },
          "metadata": {},
          "execution_count": 148
        }
      ]
    },
    {
      "cell_type": "markdown",
      "metadata": {
        "id": "sa1pFtjZH-nl"
      },
      "source": [
        "##7. Qual o valor médio das casas com vista pro mar e sem vista pro mar ?\n"
      ]
    },
    {
      "cell_type": "code",
      "metadata": {
        "colab": {
          "base_uri": "https://localhost:8080/"
        },
        "id": "AlraPhlpH96B",
        "outputId": "0a20449e-6e5b-4eef-f45f-f23331f17cc3"
      },
      "source": [
        "df4[['price', 'waterfront']].groupby('waterfront').mean().round(2)"
      ],
      "execution_count": null,
      "outputs": [
        {
          "output_type": "execute_result",
          "data": {
            "text/html": [
              "<div>\n",
              "<style scoped>\n",
              "    .dataframe tbody tr th:only-of-type {\n",
              "        vertical-align: middle;\n",
              "    }\n",
              "\n",
              "    .dataframe tbody tr th {\n",
              "        vertical-align: top;\n",
              "    }\n",
              "\n",
              "    .dataframe thead th {\n",
              "        text-align: right;\n",
              "    }\n",
              "</style>\n",
              "<table border=\"1\" class=\"dataframe\">\n",
              "  <thead>\n",
              "    <tr style=\"text-align: right;\">\n",
              "      <th></th>\n",
              "      <th>price</th>\n",
              "    </tr>\n",
              "    <tr>\n",
              "      <th>waterfront</th>\n",
              "      <th></th>\n",
              "    </tr>\n",
              "  </thead>\n",
              "  <tbody>\n",
              "    <tr>\n",
              "      <th>com_vista</th>\n",
              "      <td>1661876.02</td>\n",
              "    </tr>\n",
              "    <tr>\n",
              "      <th>sem_vista</th>\n",
              "      <td>531672.89</td>\n",
              "    </tr>\n",
              "  </tbody>\n",
              "</table>\n",
              "</div>"
            ],
            "text/plain": [
              "                 price\n",
              "waterfront            \n",
              "com_vista   1661876.02\n",
              "sem_vista    531672.89"
            ]
          },
          "metadata": {},
          "execution_count": 149
        }
      ]
    },
    {
      "cell_type": "markdown",
      "metadata": {
        "id": "Od53-TJvIh2-"
      },
      "source": [
        "##8. Quantas casas foram construídas entre 2000 e 2015 ?\n"
      ]
    },
    {
      "cell_type": "code",
      "metadata": {
        "colab": {
          "base_uri": "https://localhost:8080/"
        },
        "id": "krtN4OrLIdEK",
        "outputId": "beb98fe9-fd44-4a5b-fc89-fd958ddbef10"
      },
      "source": [
        "len(df4.query('2000 < yr_built < 2015'))"
      ],
      "execution_count": null,
      "outputs": [
        {
          "output_type": "execute_result",
          "data": {
            "text/plain": [
              "4500"
            ]
          },
          "metadata": {},
          "execution_count": 150
        }
      ]
    },
    {
      "cell_type": "markdown",
      "metadata": {
        "id": "IEW77fBLJv2E"
      },
      "source": [
        "##9. Qual o ano com maior valor de venda?\n"
      ]
    },
    {
      "cell_type": "code",
      "metadata": {
        "colab": {
          "base_uri": "https://localhost:8080/"
        },
        "id": "LC-K1FX_JybG",
        "outputId": "6713654b-1f2e-44fd-b533-dd9537b0126f"
      },
      "source": [
        "df4['ano'] = df4.date.dt.year\n",
        "df4[['ano', 'price']].sort_values('price', ascending=False).head(1).reset_index(drop=True)"
      ],
      "execution_count": null,
      "outputs": [
        {
          "output_type": "execute_result",
          "data": {
            "text/html": [
              "<div>\n",
              "<style scoped>\n",
              "    .dataframe tbody tr th:only-of-type {\n",
              "        vertical-align: middle;\n",
              "    }\n",
              "\n",
              "    .dataframe tbody tr th {\n",
              "        vertical-align: top;\n",
              "    }\n",
              "\n",
              "    .dataframe thead th {\n",
              "        text-align: right;\n",
              "    }\n",
              "</style>\n",
              "<table border=\"1\" class=\"dataframe\">\n",
              "  <thead>\n",
              "    <tr style=\"text-align: right;\">\n",
              "      <th></th>\n",
              "      <th>ano</th>\n",
              "      <th>price</th>\n",
              "    </tr>\n",
              "  </thead>\n",
              "  <tbody>\n",
              "    <tr>\n",
              "      <th>0</th>\n",
              "      <td>2014</td>\n",
              "      <td>7700000.0</td>\n",
              "    </tr>\n",
              "  </tbody>\n",
              "</table>\n",
              "</div>"
            ],
            "text/plain": [
              "    ano      price\n",
              "0  2014  7700000.0"
            ]
          },
          "metadata": {},
          "execution_count": 151
        }
      ]
    },
    {
      "cell_type": "markdown",
      "metadata": {
        "id": "fFJlV81dMYz2"
      },
      "source": [
        "##10. Quantos imóveis foram reformados?"
      ]
    },
    {
      "cell_type": "code",
      "metadata": {
        "colab": {
          "base_uri": "https://localhost:8080/"
        },
        "id": "XYbHRYV3MaZ0",
        "outputId": "80197c89-be06-408b-c05f-a77e144fa0bd"
      },
      "source": [
        "len(df4[df4['yr_renovated'] != 0 ])"
      ],
      "execution_count": null,
      "outputs": [
        {
          "output_type": "execute_result",
          "data": {
            "text/plain": [
              "914"
            ]
          },
          "metadata": {},
          "execution_count": 152
        }
      ]
    },
    {
      "cell_type": "markdown",
      "metadata": {
        "id": "NW6KUlqOeAPs"
      },
      "source": [
        "#6.0. Exportando os dados"
      ]
    },
    {
      "cell_type": "markdown",
      "metadata": {
        "id": "ROjbvSk6eHnc"
      },
      "source": [
        "Exportar as repostas das questões 6 e 7 para o formato xls e csv, para ser usado no Google Sheets ou em qualquer outra planilha."
      ]
    },
    {
      "cell_type": "markdown",
      "metadata": {
        "id": "vocfIU8ZhF0Z"
      },
      "source": [
        "##6.1. Salvar dados em csv ou xls"
      ]
    },
    {
      "cell_type": "code",
      "metadata": {
        "id": "XZR0aIjYeGrw"
      },
      "source": [
        "# Questão 6 \n",
        "\n",
        "# tranformar em  dataframe\n",
        "export1 = pd.DataFrame(df4[['price', 'house_type']].groupby('house_type').mean().round(2))\n",
        "\n",
        "# exportar para o formato xls\n",
        "export1.to_excel(\"/content/tutorial_pandas/export1.xls\")"
      ],
      "execution_count": null,
      "outputs": []
    },
    {
      "cell_type": "code",
      "metadata": {
        "id": "rNdLymcNOhsU"
      },
      "source": [
        "# Questão 7\n",
        "\n",
        "# tranformar em  dataframe\n",
        "export2 = pd.DataFrame(df4[['price', 'waterfront']].groupby('waterfront').mean().round(2))\n",
        "\n",
        "# exportar para o formato xls\n",
        "export2.to_csv(\"/content/tutorial_pandas/export2.csv\")"
      ],
      "execution_count": null,
      "outputs": []
    },
    {
      "cell_type": "markdown",
      "metadata": {
        "id": "TLhjq-nKgcgW"
      },
      "source": [
        "O arquivo ficou disponível para download na pasta do projeto."
      ]
    },
    {
      "cell_type": "markdown",
      "metadata": {
        "id": "MCtRZkWXhQLa"
      },
      "source": [
        "##6.2. Salvar os dados no Drive"
      ]
    },
    {
      "cell_type": "markdown",
      "metadata": {
        "id": "m-z2iO2EOEU6"
      },
      "source": [
        "Podemos salvar os dados da pasta criada no Colab diretamente para o Google Drive, para realizar essa ação retire o primeiro # (comentário) de cada linha."
      ]
    },
    {
      "cell_type": "code",
      "metadata": {
        "id": "NUv6t-ERgb5w"
      },
      "source": [
        "#from google.colab import drive\n",
        "#\n",
        "## Montando o volume do Google Drive\n",
        "#drive.mount('/content/drive')"
      ],
      "execution_count": null,
      "outputs": []
    },
    {
      "cell_type": "code",
      "metadata": {
        "id": "0rePE0FIhf-x"
      },
      "source": [
        "## criar as pastas no drive\n",
        "#!mkdir -p /drive/MyDrive/Tutorial_pandas"
      ],
      "execution_count": null,
      "outputs": []
    },
    {
      "cell_type": "code",
      "metadata": {
        "id": "4-Yjj3CEhv7k"
      },
      "source": [
        "## copiar os arquivos da pasta para o drive\n",
        "#!cp -r tutorial_pandas/* /drive/MyDrive/Tutorial_pandas"
      ],
      "execution_count": null,
      "outputs": []
    },
    {
      "cell_type": "markdown",
      "metadata": {
        "id": "FHZk4LGgC9Yg"
      },
      "source": [
        "**Depois de uma pequena introdução no pandas precisamos aprofundar os conhecimentos, e a melhor forma de fazer isso é praticando, utilize esse arquivo para fazer testes de códigos que pesquisar, e o deixe como um guia de consulta rápida,conforme for aprendendo vá complementando-a.**"
      ]
    }
  ]
}